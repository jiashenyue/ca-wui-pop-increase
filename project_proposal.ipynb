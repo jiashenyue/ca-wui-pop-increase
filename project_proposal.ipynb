{
  "nbformat": 4,
  "nbformat_minor": 0,
  "metadata": {
    "colab": {
      "provenance": [],
      "include_colab_link": true
    },
    "kernelspec": {
      "name": "python3",
      "display_name": "Python 3"
    }
  },
  "cells": [
    {
      "cell_type": "markdown",
      "metadata": {
        "id": "view-in-github",
        "colab_type": "text"
      },
      "source": [
        "<a href=\"https://colab.research.google.com/github/jiashenyue/ca-wui-pop-increase/blob/main/project_proposal.ipynb\" target=\"_parent\"><img src=\"https://colab.research.google.com/assets/colab-badge.svg\" alt=\"Open In Colab\"/></a>"
      ]
    },
    {
      "cell_type": "markdown",
      "source": [
        "# **Proposal for Project 2**\n",
        "- **Coding Dojo**\n",
        "- **Shenyue Jia** | [jiashenyue.info](https://jiashenyue.info/)"
      ],
      "metadata": {
        "id": "PMFj-fnLvm74"
      }
    },
    {
      "cell_type": "markdown",
      "source": [
        "## **Option 1: Investigating the population increase inside California's Wildland-Urban Interface (WUI) from 2010 to 2019**"
      ],
      "metadata": {
        "id": "6Sc-J4SrxcNk"
      }
    },
    {
      "cell_type": "markdown",
      "source": [
        "###**Overview**\n",
        "\n",
        "During the past decade, an increasing number of population is now living inside Wildland-Urban Interface (WUI), a high-risk zone of wildfire. Such trend is the most prominent in California amid the housing crisis caused by a significant increase of population and a shrinking availability of homes. As a result, real estate companies started to develop in suburbs closer to the wild that  historically possesse a population density, which is referred to as **Wildland-Urban Interface (WUI)**. \n",
        "\n",
        "The sprawling into the wild caused by such trend now puts more people at a greater exposure of high wildfire risk. Under a projected increase of wildfire occurrence caused by climate change, these people will eventually face even greater wildfire risk than present. A recent [New York Times story](https://www.nytimes.com/interactive/2022/09/09/climate/growing-wildfire-risk-homes.html) visualized the sprawling into the WUI.\n",
        "\n",
        "We will perform a retrospective analysis to investigate what are the drivers of the population increase inside California's WUI during the past decade. This is **NOT** a time series related problem as the degree of population change has been already computed and will be used as the target variable."
      ],
      "metadata": {
        "id": "ebLlJ2fgfWfY"
      }
    },
    {
      "cell_type": "markdown",
      "metadata": {
        "id": "M3wwYi6u_VU3"
      },
      "source": [
        "### **Source of Data**\n",
        "- **Target variable**\n",
        "  - The magnitude of population increase at the **census tract** level for California from 2010 to 2019.\n",
        "  - Magnitude here is defined as the degree of increase computed using the yearly population estimates from [American Community Survey (ACS)](https://www.census.gov/programs-surveys/acs) by the U.S. Census Bureau.\n",
        "  - **Note:** there is no need to apply time-series analysis as the **degree of increase** has already been prepared by authors from [this study](https://digitalcommons.chapman.edu/scs_articles/791/).\n",
        "- **Features**\n",
        "  - **Esri House Affordability Index at the census tract level**\n",
        "    - Housing Affordability Index (HAI) measures the financial ability of a typical household to purchase an existing home in an area based on \n",
        "      - Share of Income to Mortgage\n",
        "      - Median Household Income\n",
        "      - Median House Price\n",
        "    - **HAI = 100**: this area that on average has sufficient household income to qualify for a loan on a home valued at the median home price. \n",
        "    - **HAI > 100**: homes in this area are easily afforded by the average area resident. \n",
        "    - **HAI < 100**: homes are less affordable.\n",
        "    - This metric is developed and computed at a various spatial levels, including the census tract level by [Esri](https://www.arcgis.com/home/item.html?id=a1263c2dcdf2464bbb7906821038eb2f)\n",
        "  - **Household Income at the census tract level**\n",
        "    - Maximum\n",
        "    - Median\n",
        "    - Minimum\n",
        "  - **Rent-Own Ratio at the census tract level**\n",
        "    - This metric is derived using the latest ACS data, which contains a lot of demographic metrics, including **% of people renting** and **% of people owning**\n",
        "  - **Wildfire Hazard Potential**\n",
        "    - This metric is derived as an image service by [U.S. Forest Service Fire Lab](https://www.firelab.org/project/wildfire-hazard-potential)\n",
        "    - Authors of [this work](https://digitalcommons.chapman.edu/scs_articles/791/) have already preprocessed this dataset to obtain a census tract level data for analysis\n",
        "  - **Wildfire Risk to Homes**\n",
        "    - A measure that integrates wildfire likelihood and intensity with generalized consequences to a home\n",
        "    - This metric is derived as an image service by U.S.Forest Service [Wildfire Risk to Community Project](https://wildfirerisk.org/download/)\n",
        "    - **Data preparation pending to obtain census tract level data**\n",
        "  - **Change of Road Density from 2010 to 2019 at the census tract level**\n",
        "    - Primary and Secondary Roads will be included in the data\n",
        "    - Data can be prepared based on Primary and Secondary Roads from U.S. Census [TIGER Shapefile](https://www.census.gov/cgi-bin/geo/shapefiles/index.php?year=2010&layergroup=Roads) from 2010 to 2019\n",
        "      - Road density will be computed for each census tract for each year from 2010 to 2019\n",
        "      - Magnitude of change will be calculated based on the yearly data"
      ]
    },
    {
      "cell_type": "markdown",
      "source": [
        "###**Type of Problem**\n",
        "\n",
        "- Since the target variable is the magnitude of population increase for each census tract inside California's WUI during the past decade, this is a **Regression** problem."
      ],
      "metadata": {
        "id": "nWlqYKHppdG_"
      }
    },
    {
      "cell_type": "markdown",
      "source": [
        "###**Details of the Data**\n",
        "\n",
        "- **How many features does the data have?**\n",
        "  - The data now have **8** features, including\n",
        "    - Esri House Affordability Index\n",
        "    - Maximum Household Income\n",
        "    - Median Household Income\n",
        "    - Minium Household Income\n",
        "    - Rent-Own Ratio\n",
        "    - Median Wildfire Hazard Potential\n",
        "    - Median Wildfire Risk to Homes\n",
        "    - Change of Road Density from 2010 to 2019 at the census tract level\n",
        "- **How many rows does the dataset have?**\n",
        "  - This dataset has 8,057 rows, each row represents one census tract in California"
      ],
      "metadata": {
        "id": "Hu5foXFvpsb2"
      }
    },
    {
      "cell_type": "markdown",
      "source": [
        "###**Potential Challenges in Data Wrangling and Analysis**\n",
        "\n",
        "- **Challenge #1: data preparation work pending**\n",
        "  - Metrics that still need to be computed from census or other data sources include:\n",
        "    - Rent-Own Ratio (currently only percentage of renting and owning for each census tract)\n",
        "    - Median Wildfire Risk to Homes (needs to comput the median from the image service for each census tract)\n",
        "    - Road density at the census tract level for each year from 2010 to 2019\n",
        "- **Challenge #2: clearly define the magnitude of change**\n",
        "  - For some metrics like the target variable, a Mann-Kendall's tau and the slope of linear fit between population and years has been calculated to measure the confidence or magnitude change\n",
        "  - This metric can be tricky to explain with a more in-depth look giving the short amount of time for this project\n",
        "  - An alternative solution is to just calculate the difference between the first year (2010) and the last year (2019) as the magnitude of change for the two metrics below\n",
        "    - **Population** at the census tract level (target variable)\n",
        "    - **Road density** at the census tract level (one of the features)\n",
        "- **Challenge #3: small number of features**\n",
        "  - This model now only contains **8** features, which may not be enough in harnessing the power of some machine learning approaches such as Decision Tree and Random Forest\n",
        "  - Solution: perform data engineering to increase the number of features\n",
        "    - Compute **max, min, median and beyond** for these variables to increase the number of features\n",
        "      - **% of household renting a home**\n",
        "      - **% of household owning a home**\n",
        "      - **Wildfire Hazard Potential**\n",
        "      - **Wildfire Risk to Homes** "
      ],
      "metadata": {
        "id": "lR9AO5nnqt0Z"
      }
    },
    {
      "cell_type": "markdown",
      "source": [
        "##**Option 2: Investigating the potential drivers of exposure to wildfire-induced power outage in California**"
      ],
      "metadata": {
        "id": "njdXvkRJwvPl"
      }
    },
    {
      "cell_type": "markdown",
      "source": [
        "###**Overview**\n",
        "\n",
        "Power outage caused by wildfires or wildfire-related events like Public Safety Power Shutoffs (PSPS) has become more frequent in recent years amid the increasing risk of mega-fires in California.\n",
        "\n",
        "Here we will investigate the potential drivers of such power outage based on power outage data at the **[Census Designated Place](https://www.census.gov/programs-surveys/bas/information/cdp.html)** (CDP) in California of the year 2019."
      ],
      "metadata": {
        "id": "FjldnL0t05Q1"
      }
    },
    {
      "cell_type": "markdown",
      "source": [
        "###**Source of Data**\n",
        "\n",
        "- **Target Variable**\n",
        "  - Total minutes of power outage longer than 1 hour in all CDP of California, 2019\n",
        "  - Source of data: [poweroutage.us](https://poweroutage.us/)"
      ],
      "metadata": {
        "id": "zKjiLp6Z1rTY"
      }
    }
  ]
}