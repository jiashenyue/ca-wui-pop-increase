{
  "cells": [
    {
      "cell_type": "markdown",
      "metadata": {
        "id": "view-in-github",
        "colab_type": "text"
      },
      "source": [
        "<a href=\"https://colab.research.google.com/github/jiashenyue/ca-wui-pop-increase/blob/main/project_2_data_preparation.ipynb\" target=\"_parent\"><img src=\"https://colab.research.google.com/assets/colab-badge.svg\" alt=\"Open In Colab\"/></a>"
      ]
    },
    {
      "cell_type": "markdown",
      "metadata": {
        "id": "-OruHUpIqMbr"
      },
      "source": [
        "#**Data Preparation**\n",
        "\n",
        "- Shenyue Jia | [jiashenyue.info](https://www.jiashenyue.info/)"
      ]
    },
    {
      "cell_type": "markdown",
      "metadata": {
        "id": "DL4tV2rGwqaP"
      },
      "source": [
        "##**0. Overview**\n",
        "\n",
        "- Prepare the data to estimate the drivers of population increase inside California's Wildland-Urban Interface (WUI), a high-risk zone of wildfire during the past decade (2010-2019)"
      ]
    },
    {
      "cell_type": "markdown",
      "source": [
        "###**Data dictionary**\n",
        "\n",
        "- [TO DO] data dictionary"
      ],
      "metadata": {
        "id": "SfqPXMEIzavl"
      }
    },
    {
      "cell_type": "markdown",
      "metadata": {
        "id": "pKzmArabxhVQ"
      },
      "source": [
        "##**1. Data preparation**"
      ]
    },
    {
      "cell_type": "markdown",
      "metadata": {
        "id": "2mZHMqRvzDcK"
      },
      "source": [
        "###**1.1 Data inspection**"
      ]
    },
    {
      "cell_type": "code",
      "execution_count": 44,
      "metadata": {
        "id": "XMKoEGJ0qVpS"
      },
      "outputs": [],
      "source": [
        "# import necessary libraries\n",
        "import pandas as pd\n",
        "import numpy as np\n",
        "import matplotlib.pyplot as plt\n",
        "import seaborn as sns"
      ]
    },
    {
      "cell_type": "code",
      "execution_count": 45,
      "metadata": {
        "colab": {
          "base_uri": "https://localhost:8080/",
          "height": 392
        },
        "id": "24vzrRAaqo94",
        "outputId": "9b037f76-41c5-488a-ef31-14c20cff751a"
      },
      "outputs": [
        {
          "output_type": "execute_result",
          "data": {
            "text/plain": [
              "           id              county  county_pop_19    mk_pop   pval_mk  \\\n",
              "0  6037500403  Los Angeles County       10081570 -0.377778  0.152406   \n",
              "1  6065045103    Riverside County        2411439 -0.629253  0.015322   \n",
              "2  6065046404    Riverside County        2411439  0.777778  0.002357   \n",
              "3  6065045108    Riverside County        2411439  0.733333  0.004207   \n",
              "4  6037122122  Los Angeles County       10081570  0.822222  0.001282   \n",
              "\n",
              "      slp_pop  pval_ols  coef_pop   pval_poisson     WUICLASS10_tract  \\\n",
              "0  -49.915152  0.075146 -0.011813   3.101268e-12  High_Dens_Interface   \n",
              "1  -96.157576  0.000582 -0.025473   9.175103e-46   Med_Dens_Interface   \n",
              "2  244.018182  0.000609  0.040807  1.123356e-179  High_Dens_Interface   \n",
              "3  212.963636  0.000026  0.034908  7.490726e-135  High_Dens_Interface   \n",
              "4   80.933333  0.000049  0.034606   5.562206e-52  High_Dens_Interface   \n",
              "\n",
              "   WUIFLAG10_tract  COUNTYFP10  pop10    tract_area  WHPWeigh_1     CNTY_AREA  \\\n",
              "0                2          37   4067  2.246968e+06    0.505911  1.230099e+10   \n",
              "1                2          65   4107  2.344179e+07    1.793173  1.891490e+10   \n",
              "2                2          65   4723  1.064512e+07    1.793173  1.891490e+10   \n",
              "3                2          65   5082  2.683460e+06    1.793173  1.891490e+10   \n",
              "4                2          37   1964  1.032659e+06    0.505911  1.230099e+10   \n",
              "\n",
              "   pop19  pop_diff  \n",
              "0   3829      -238  \n",
              "1   3557      -550  \n",
              "2   6661      1938  \n",
              "3   6767      1685  \n",
              "4   2728       764  "
            ],
            "text/html": [
              "\n",
              "  <div id=\"df-5449062e-af32-4533-b591-e554126d4309\">\n",
              "    <div class=\"colab-df-container\">\n",
              "      <div>\n",
              "<style scoped>\n",
              "    .dataframe tbody tr th:only-of-type {\n",
              "        vertical-align: middle;\n",
              "    }\n",
              "\n",
              "    .dataframe tbody tr th {\n",
              "        vertical-align: top;\n",
              "    }\n",
              "\n",
              "    .dataframe thead th {\n",
              "        text-align: right;\n",
              "    }\n",
              "</style>\n",
              "<table border=\"1\" class=\"dataframe\">\n",
              "  <thead>\n",
              "    <tr style=\"text-align: right;\">\n",
              "      <th></th>\n",
              "      <th>id</th>\n",
              "      <th>county</th>\n",
              "      <th>county_pop_19</th>\n",
              "      <th>mk_pop</th>\n",
              "      <th>pval_mk</th>\n",
              "      <th>slp_pop</th>\n",
              "      <th>pval_ols</th>\n",
              "      <th>coef_pop</th>\n",
              "      <th>pval_poisson</th>\n",
              "      <th>WUICLASS10_tract</th>\n",
              "      <th>WUIFLAG10_tract</th>\n",
              "      <th>COUNTYFP10</th>\n",
              "      <th>pop10</th>\n",
              "      <th>tract_area</th>\n",
              "      <th>WHPWeigh_1</th>\n",
              "      <th>CNTY_AREA</th>\n",
              "      <th>pop19</th>\n",
              "      <th>pop_diff</th>\n",
              "    </tr>\n",
              "  </thead>\n",
              "  <tbody>\n",
              "    <tr>\n",
              "      <th>0</th>\n",
              "      <td>6037500403</td>\n",
              "      <td>Los Angeles County</td>\n",
              "      <td>10081570</td>\n",
              "      <td>-0.377778</td>\n",
              "      <td>0.152406</td>\n",
              "      <td>-49.915152</td>\n",
              "      <td>0.075146</td>\n",
              "      <td>-0.011813</td>\n",
              "      <td>3.101268e-12</td>\n",
              "      <td>High_Dens_Interface</td>\n",
              "      <td>2</td>\n",
              "      <td>37</td>\n",
              "      <td>4067</td>\n",
              "      <td>2.246968e+06</td>\n",
              "      <td>0.505911</td>\n",
              "      <td>1.230099e+10</td>\n",
              "      <td>3829</td>\n",
              "      <td>-238</td>\n",
              "    </tr>\n",
              "    <tr>\n",
              "      <th>1</th>\n",
              "      <td>6065045103</td>\n",
              "      <td>Riverside County</td>\n",
              "      <td>2411439</td>\n",
              "      <td>-0.629253</td>\n",
              "      <td>0.015322</td>\n",
              "      <td>-96.157576</td>\n",
              "      <td>0.000582</td>\n",
              "      <td>-0.025473</td>\n",
              "      <td>9.175103e-46</td>\n",
              "      <td>Med_Dens_Interface</td>\n",
              "      <td>2</td>\n",
              "      <td>65</td>\n",
              "      <td>4107</td>\n",
              "      <td>2.344179e+07</td>\n",
              "      <td>1.793173</td>\n",
              "      <td>1.891490e+10</td>\n",
              "      <td>3557</td>\n",
              "      <td>-550</td>\n",
              "    </tr>\n",
              "    <tr>\n",
              "      <th>2</th>\n",
              "      <td>6065046404</td>\n",
              "      <td>Riverside County</td>\n",
              "      <td>2411439</td>\n",
              "      <td>0.777778</td>\n",
              "      <td>0.002357</td>\n",
              "      <td>244.018182</td>\n",
              "      <td>0.000609</td>\n",
              "      <td>0.040807</td>\n",
              "      <td>1.123356e-179</td>\n",
              "      <td>High_Dens_Interface</td>\n",
              "      <td>2</td>\n",
              "      <td>65</td>\n",
              "      <td>4723</td>\n",
              "      <td>1.064512e+07</td>\n",
              "      <td>1.793173</td>\n",
              "      <td>1.891490e+10</td>\n",
              "      <td>6661</td>\n",
              "      <td>1938</td>\n",
              "    </tr>\n",
              "    <tr>\n",
              "      <th>3</th>\n",
              "      <td>6065045108</td>\n",
              "      <td>Riverside County</td>\n",
              "      <td>2411439</td>\n",
              "      <td>0.733333</td>\n",
              "      <td>0.004207</td>\n",
              "      <td>212.963636</td>\n",
              "      <td>0.000026</td>\n",
              "      <td>0.034908</td>\n",
              "      <td>7.490726e-135</td>\n",
              "      <td>High_Dens_Interface</td>\n",
              "      <td>2</td>\n",
              "      <td>65</td>\n",
              "      <td>5082</td>\n",
              "      <td>2.683460e+06</td>\n",
              "      <td>1.793173</td>\n",
              "      <td>1.891490e+10</td>\n",
              "      <td>6767</td>\n",
              "      <td>1685</td>\n",
              "    </tr>\n",
              "    <tr>\n",
              "      <th>4</th>\n",
              "      <td>6037122122</td>\n",
              "      <td>Los Angeles County</td>\n",
              "      <td>10081570</td>\n",
              "      <td>0.822222</td>\n",
              "      <td>0.001282</td>\n",
              "      <td>80.933333</td>\n",
              "      <td>0.000049</td>\n",
              "      <td>0.034606</td>\n",
              "      <td>5.562206e-52</td>\n",
              "      <td>High_Dens_Interface</td>\n",
              "      <td>2</td>\n",
              "      <td>37</td>\n",
              "      <td>1964</td>\n",
              "      <td>1.032659e+06</td>\n",
              "      <td>0.505911</td>\n",
              "      <td>1.230099e+10</td>\n",
              "      <td>2728</td>\n",
              "      <td>764</td>\n",
              "    </tr>\n",
              "  </tbody>\n",
              "</table>\n",
              "</div>\n",
              "      <button class=\"colab-df-convert\" onclick=\"convertToInteractive('df-5449062e-af32-4533-b591-e554126d4309')\"\n",
              "              title=\"Convert this dataframe to an interactive table.\"\n",
              "              style=\"display:none;\">\n",
              "        \n",
              "  <svg xmlns=\"http://www.w3.org/2000/svg\" height=\"24px\"viewBox=\"0 0 24 24\"\n",
              "       width=\"24px\">\n",
              "    <path d=\"M0 0h24v24H0V0z\" fill=\"none\"/>\n",
              "    <path d=\"M18.56 5.44l.94 2.06.94-2.06 2.06-.94-2.06-.94-.94-2.06-.94 2.06-2.06.94zm-11 1L8.5 8.5l.94-2.06 2.06-.94-2.06-.94L8.5 2.5l-.94 2.06-2.06.94zm10 10l.94 2.06.94-2.06 2.06-.94-2.06-.94-.94-2.06-.94 2.06-2.06.94z\"/><path d=\"M17.41 7.96l-1.37-1.37c-.4-.4-.92-.59-1.43-.59-.52 0-1.04.2-1.43.59L10.3 9.45l-7.72 7.72c-.78.78-.78 2.05 0 2.83L4 21.41c.39.39.9.59 1.41.59.51 0 1.02-.2 1.41-.59l7.78-7.78 2.81-2.81c.8-.78.8-2.07 0-2.86zM5.41 20L4 18.59l7.72-7.72 1.47 1.35L5.41 20z\"/>\n",
              "  </svg>\n",
              "      </button>\n",
              "      \n",
              "  <style>\n",
              "    .colab-df-container {\n",
              "      display:flex;\n",
              "      flex-wrap:wrap;\n",
              "      gap: 12px;\n",
              "    }\n",
              "\n",
              "    .colab-df-convert {\n",
              "      background-color: #E8F0FE;\n",
              "      border: none;\n",
              "      border-radius: 50%;\n",
              "      cursor: pointer;\n",
              "      display: none;\n",
              "      fill: #1967D2;\n",
              "      height: 32px;\n",
              "      padding: 0 0 0 0;\n",
              "      width: 32px;\n",
              "    }\n",
              "\n",
              "    .colab-df-convert:hover {\n",
              "      background-color: #E2EBFA;\n",
              "      box-shadow: 0px 1px 2px rgba(60, 64, 67, 0.3), 0px 1px 3px 1px rgba(60, 64, 67, 0.15);\n",
              "      fill: #174EA6;\n",
              "    }\n",
              "\n",
              "    [theme=dark] .colab-df-convert {\n",
              "      background-color: #3B4455;\n",
              "      fill: #D2E3FC;\n",
              "    }\n",
              "\n",
              "    [theme=dark] .colab-df-convert:hover {\n",
              "      background-color: #434B5C;\n",
              "      box-shadow: 0px 1px 3px 1px rgba(0, 0, 0, 0.15);\n",
              "      filter: drop-shadow(0px 1px 2px rgba(0, 0, 0, 0.3));\n",
              "      fill: #FFFFFF;\n",
              "    }\n",
              "  </style>\n",
              "\n",
              "      <script>\n",
              "        const buttonEl =\n",
              "          document.querySelector('#df-5449062e-af32-4533-b591-e554126d4309 button.colab-df-convert');\n",
              "        buttonEl.style.display =\n",
              "          google.colab.kernel.accessAllowed ? 'block' : 'none';\n",
              "\n",
              "        async function convertToInteractive(key) {\n",
              "          const element = document.querySelector('#df-5449062e-af32-4533-b591-e554126d4309');\n",
              "          const dataTable =\n",
              "            await google.colab.kernel.invokeFunction('convertToInteractive',\n",
              "                                                     [key], {});\n",
              "          if (!dataTable) return;\n",
              "\n",
              "          const docLinkHtml = 'Like what you see? Visit the ' +\n",
              "            '<a target=\"_blank\" href=https://colab.research.google.com/notebooks/data_table.ipynb>data table notebook</a>'\n",
              "            + ' to learn more about interactive tables.';\n",
              "          element.innerHTML = '';\n",
              "          dataTable['output_type'] = 'display_data';\n",
              "          await google.colab.output.renderOutput(dataTable, element);\n",
              "          const docLink = document.createElement('div');\n",
              "          docLink.innerHTML = docLinkHtml;\n",
              "          element.appendChild(docLink);\n",
              "        }\n",
              "      </script>\n",
              "    </div>\n",
              "  </div>\n",
              "  "
            ]
          },
          "metadata": {},
          "execution_count": 45
        }
      ],
      "source": [
        "# inspect data\n",
        "url = 'https://drive.google.com/file/d/1itah7kfdgRi7B_oRnHYr0n5LRdG9sefQ/view?usp=share_link'\n",
        "url='https://drive.google.com/uc?id=' + url.split('/')[-2]\n",
        "df = pd.read_csv(url)\n",
        "df.head()"
      ]
    },
    {
      "cell_type": "code",
      "source": [
        "df.info()"
      ],
      "metadata": {
        "colab": {
          "base_uri": "https://localhost:8080/"
        },
        "id": "bdJNFUKf5veQ",
        "outputId": "a0e98f90-d245-4ae5-e898-08639f24b7c0"
      },
      "execution_count": 46,
      "outputs": [
        {
          "output_type": "stream",
          "name": "stdout",
          "text": [
            "<class 'pandas.core.frame.DataFrame'>\n",
            "RangeIndex: 3364 entries, 0 to 3363\n",
            "Data columns (total 18 columns):\n",
            " #   Column            Non-Null Count  Dtype  \n",
            "---  ------            --------------  -----  \n",
            " 0   id                3364 non-null   int64  \n",
            " 1   county            3364 non-null   object \n",
            " 2   county_pop_19     3364 non-null   int64  \n",
            " 3   mk_pop            3364 non-null   float64\n",
            " 4   pval_mk           3364 non-null   float64\n",
            " 5   slp_pop           3364 non-null   float64\n",
            " 6   pval_ols          3363 non-null   float64\n",
            " 7   coef_pop          3364 non-null   float64\n",
            " 8   pval_poisson      3364 non-null   float64\n",
            " 9   WUICLASS10_tract  3364 non-null   object \n",
            " 10  WUIFLAG10_tract   3364 non-null   int64  \n",
            " 11  COUNTYFP10        3364 non-null   int64  \n",
            " 12  pop10             3364 non-null   int64  \n",
            " 13  tract_area        3364 non-null   float64\n",
            " 14  WHPWeigh_1        3364 non-null   float64\n",
            " 15  CNTY_AREA         3364 non-null   float64\n",
            " 16  pop19             3364 non-null   int64  \n",
            " 17  pop_diff          3364 non-null   int64  \n",
            "dtypes: float64(9), int64(7), object(2)\n",
            "memory usage: 473.2+ KB\n"
          ]
        }
      ]
    },
    {
      "cell_type": "markdown",
      "metadata": {
        "id": "NMV1yLgFyJwQ"
      },
      "source": [
        "###**1.2 Target variable**\n",
        "\n",
        "- **Option 1: use `coef_pop` column as target variable**\n",
        "  - Coefficient of Poisson regression\n",
        "- **Option 2: use `pop_diff` column as the target variable**\n",
        "  - Population difference between 2019 and 2010"
      ]
    },
    {
      "cell_type": "code",
      "execution_count": 47,
      "metadata": {
        "colab": {
          "base_uri": "https://localhost:8080/"
        },
        "id": "01ODjfmU4XsV",
        "outputId": "486ffe16-af0a-4f2e-e6e0-f0f101a97149"
      },
      "outputs": [
        {
          "output_type": "stream",
          "name": "stdout",
          "text": [
            "<class 'pandas.core.frame.DataFrame'>\n",
            "RangeIndex: 3364 entries, 0 to 3363\n",
            "Data columns (total 18 columns):\n",
            " #   Column            Non-Null Count  Dtype  \n",
            "---  ------            --------------  -----  \n",
            " 0   id                3364 non-null   int64  \n",
            " 1   county            3364 non-null   object \n",
            " 2   county_pop_19     3364 non-null   int64  \n",
            " 3   mk_pop            3364 non-null   float64\n",
            " 4   pval_mk           3364 non-null   float64\n",
            " 5   slp_pop           3364 non-null   float64\n",
            " 6   pval_ols          3363 non-null   float64\n",
            " 7   coef_pop          3364 non-null   float64\n",
            " 8   pval_poisson      3364 non-null   float64\n",
            " 9   WUICLASS10_tract  3364 non-null   object \n",
            " 10  WUIFLAG10_tract   3364 non-null   int64  \n",
            " 11  COUNTYFP10        3364 non-null   int64  \n",
            " 12  pop10             3364 non-null   int64  \n",
            " 13  tract_area        3364 non-null   float64\n",
            " 14  WHPWeigh_1        3364 non-null   float64\n",
            " 15  CNTY_AREA         3364 non-null   float64\n",
            " 16  pop19             3364 non-null   int64  \n",
            " 17  pop_diff          3364 non-null   int64  \n",
            "dtypes: float64(9), int64(7), object(2)\n",
            "memory usage: 473.2+ KB\n"
          ]
        }
      ],
      "source": [
        "# check other variables in the data to decide the preprocessing pipeline\n",
        "df.info();"
      ]
    },
    {
      "cell_type": "code",
      "execution_count": 48,
      "metadata": {
        "colab": {
          "base_uri": "https://localhost:8080/",
          "height": 392
        },
        "id": "d7UHC97yGBlY",
        "outputId": "dde00f31-8710-48b4-e844-5060de477069"
      },
      "outputs": [
        {
          "output_type": "execute_result",
          "data": {
            "text/plain": [
              "           id              county  county_pop_19    mk_pop   pval_mk  \\\n",
              "0  6037500403  Los Angeles County       10081570 -0.377778  0.152406   \n",
              "1  6065045103    Riverside County        2411439 -0.629253  0.015322   \n",
              "2  6065046404    Riverside County        2411439  0.777778  0.002357   \n",
              "3  6065045108    Riverside County        2411439  0.733333  0.004207   \n",
              "4  6037122122  Los Angeles County       10081570  0.822222  0.001282   \n",
              "\n",
              "      slp_pop  pval_ols  coef_pop   pval_poisson     WUICLASS10_tract  \\\n",
              "0  -49.915152  0.075146 -0.011813   3.101268e-12  High_Dens_Interface   \n",
              "1  -96.157576  0.000582 -0.025473   9.175103e-46   Med_Dens_Interface   \n",
              "2  244.018182  0.000609  0.040807  1.123356e-179  High_Dens_Interface   \n",
              "3  212.963636  0.000026  0.034908  7.490726e-135  High_Dens_Interface   \n",
              "4   80.933333  0.000049  0.034606   5.562206e-52  High_Dens_Interface   \n",
              "\n",
              "   WUIFLAG10_tract  COUNTYFP10  pop10    tract_area  WHPWeigh_1     CNTY_AREA  \\\n",
              "0                2          37   4067  2.246968e+06    0.505911  1.230099e+10   \n",
              "1                2          65   4107  2.344179e+07    1.793173  1.891490e+10   \n",
              "2                2          65   4723  1.064512e+07    1.793173  1.891490e+10   \n",
              "3                2          65   5082  2.683460e+06    1.793173  1.891490e+10   \n",
              "4                2          37   1964  1.032659e+06    0.505911  1.230099e+10   \n",
              "\n",
              "   pop19  pop_diff  \n",
              "0   3829      -238  \n",
              "1   3557      -550  \n",
              "2   6661      1938  \n",
              "3   6767      1685  \n",
              "4   2728       764  "
            ],
            "text/html": [
              "\n",
              "  <div id=\"df-01da55f4-6fe2-4e9c-865b-fd6cc4f49919\">\n",
              "    <div class=\"colab-df-container\">\n",
              "      <div>\n",
              "<style scoped>\n",
              "    .dataframe tbody tr th:only-of-type {\n",
              "        vertical-align: middle;\n",
              "    }\n",
              "\n",
              "    .dataframe tbody tr th {\n",
              "        vertical-align: top;\n",
              "    }\n",
              "\n",
              "    .dataframe thead th {\n",
              "        text-align: right;\n",
              "    }\n",
              "</style>\n",
              "<table border=\"1\" class=\"dataframe\">\n",
              "  <thead>\n",
              "    <tr style=\"text-align: right;\">\n",
              "      <th></th>\n",
              "      <th>id</th>\n",
              "      <th>county</th>\n",
              "      <th>county_pop_19</th>\n",
              "      <th>mk_pop</th>\n",
              "      <th>pval_mk</th>\n",
              "      <th>slp_pop</th>\n",
              "      <th>pval_ols</th>\n",
              "      <th>coef_pop</th>\n",
              "      <th>pval_poisson</th>\n",
              "      <th>WUICLASS10_tract</th>\n",
              "      <th>WUIFLAG10_tract</th>\n",
              "      <th>COUNTYFP10</th>\n",
              "      <th>pop10</th>\n",
              "      <th>tract_area</th>\n",
              "      <th>WHPWeigh_1</th>\n",
              "      <th>CNTY_AREA</th>\n",
              "      <th>pop19</th>\n",
              "      <th>pop_diff</th>\n",
              "    </tr>\n",
              "  </thead>\n",
              "  <tbody>\n",
              "    <tr>\n",
              "      <th>0</th>\n",
              "      <td>6037500403</td>\n",
              "      <td>Los Angeles County</td>\n",
              "      <td>10081570</td>\n",
              "      <td>-0.377778</td>\n",
              "      <td>0.152406</td>\n",
              "      <td>-49.915152</td>\n",
              "      <td>0.075146</td>\n",
              "      <td>-0.011813</td>\n",
              "      <td>3.101268e-12</td>\n",
              "      <td>High_Dens_Interface</td>\n",
              "      <td>2</td>\n",
              "      <td>37</td>\n",
              "      <td>4067</td>\n",
              "      <td>2.246968e+06</td>\n",
              "      <td>0.505911</td>\n",
              "      <td>1.230099e+10</td>\n",
              "      <td>3829</td>\n",
              "      <td>-238</td>\n",
              "    </tr>\n",
              "    <tr>\n",
              "      <th>1</th>\n",
              "      <td>6065045103</td>\n",
              "      <td>Riverside County</td>\n",
              "      <td>2411439</td>\n",
              "      <td>-0.629253</td>\n",
              "      <td>0.015322</td>\n",
              "      <td>-96.157576</td>\n",
              "      <td>0.000582</td>\n",
              "      <td>-0.025473</td>\n",
              "      <td>9.175103e-46</td>\n",
              "      <td>Med_Dens_Interface</td>\n",
              "      <td>2</td>\n",
              "      <td>65</td>\n",
              "      <td>4107</td>\n",
              "      <td>2.344179e+07</td>\n",
              "      <td>1.793173</td>\n",
              "      <td>1.891490e+10</td>\n",
              "      <td>3557</td>\n",
              "      <td>-550</td>\n",
              "    </tr>\n",
              "    <tr>\n",
              "      <th>2</th>\n",
              "      <td>6065046404</td>\n",
              "      <td>Riverside County</td>\n",
              "      <td>2411439</td>\n",
              "      <td>0.777778</td>\n",
              "      <td>0.002357</td>\n",
              "      <td>244.018182</td>\n",
              "      <td>0.000609</td>\n",
              "      <td>0.040807</td>\n",
              "      <td>1.123356e-179</td>\n",
              "      <td>High_Dens_Interface</td>\n",
              "      <td>2</td>\n",
              "      <td>65</td>\n",
              "      <td>4723</td>\n",
              "      <td>1.064512e+07</td>\n",
              "      <td>1.793173</td>\n",
              "      <td>1.891490e+10</td>\n",
              "      <td>6661</td>\n",
              "      <td>1938</td>\n",
              "    </tr>\n",
              "    <tr>\n",
              "      <th>3</th>\n",
              "      <td>6065045108</td>\n",
              "      <td>Riverside County</td>\n",
              "      <td>2411439</td>\n",
              "      <td>0.733333</td>\n",
              "      <td>0.004207</td>\n",
              "      <td>212.963636</td>\n",
              "      <td>0.000026</td>\n",
              "      <td>0.034908</td>\n",
              "      <td>7.490726e-135</td>\n",
              "      <td>High_Dens_Interface</td>\n",
              "      <td>2</td>\n",
              "      <td>65</td>\n",
              "      <td>5082</td>\n",
              "      <td>2.683460e+06</td>\n",
              "      <td>1.793173</td>\n",
              "      <td>1.891490e+10</td>\n",
              "      <td>6767</td>\n",
              "      <td>1685</td>\n",
              "    </tr>\n",
              "    <tr>\n",
              "      <th>4</th>\n",
              "      <td>6037122122</td>\n",
              "      <td>Los Angeles County</td>\n",
              "      <td>10081570</td>\n",
              "      <td>0.822222</td>\n",
              "      <td>0.001282</td>\n",
              "      <td>80.933333</td>\n",
              "      <td>0.000049</td>\n",
              "      <td>0.034606</td>\n",
              "      <td>5.562206e-52</td>\n",
              "      <td>High_Dens_Interface</td>\n",
              "      <td>2</td>\n",
              "      <td>37</td>\n",
              "      <td>1964</td>\n",
              "      <td>1.032659e+06</td>\n",
              "      <td>0.505911</td>\n",
              "      <td>1.230099e+10</td>\n",
              "      <td>2728</td>\n",
              "      <td>764</td>\n",
              "    </tr>\n",
              "  </tbody>\n",
              "</table>\n",
              "</div>\n",
              "      <button class=\"colab-df-convert\" onclick=\"convertToInteractive('df-01da55f4-6fe2-4e9c-865b-fd6cc4f49919')\"\n",
              "              title=\"Convert this dataframe to an interactive table.\"\n",
              "              style=\"display:none;\">\n",
              "        \n",
              "  <svg xmlns=\"http://www.w3.org/2000/svg\" height=\"24px\"viewBox=\"0 0 24 24\"\n",
              "       width=\"24px\">\n",
              "    <path d=\"M0 0h24v24H0V0z\" fill=\"none\"/>\n",
              "    <path d=\"M18.56 5.44l.94 2.06.94-2.06 2.06-.94-2.06-.94-.94-2.06-.94 2.06-2.06.94zm-11 1L8.5 8.5l.94-2.06 2.06-.94-2.06-.94L8.5 2.5l-.94 2.06-2.06.94zm10 10l.94 2.06.94-2.06 2.06-.94-2.06-.94-.94-2.06-.94 2.06-2.06.94z\"/><path d=\"M17.41 7.96l-1.37-1.37c-.4-.4-.92-.59-1.43-.59-.52 0-1.04.2-1.43.59L10.3 9.45l-7.72 7.72c-.78.78-.78 2.05 0 2.83L4 21.41c.39.39.9.59 1.41.59.51 0 1.02-.2 1.41-.59l7.78-7.78 2.81-2.81c.8-.78.8-2.07 0-2.86zM5.41 20L4 18.59l7.72-7.72 1.47 1.35L5.41 20z\"/>\n",
              "  </svg>\n",
              "      </button>\n",
              "      \n",
              "  <style>\n",
              "    .colab-df-container {\n",
              "      display:flex;\n",
              "      flex-wrap:wrap;\n",
              "      gap: 12px;\n",
              "    }\n",
              "\n",
              "    .colab-df-convert {\n",
              "      background-color: #E8F0FE;\n",
              "      border: none;\n",
              "      border-radius: 50%;\n",
              "      cursor: pointer;\n",
              "      display: none;\n",
              "      fill: #1967D2;\n",
              "      height: 32px;\n",
              "      padding: 0 0 0 0;\n",
              "      width: 32px;\n",
              "    }\n",
              "\n",
              "    .colab-df-convert:hover {\n",
              "      background-color: #E2EBFA;\n",
              "      box-shadow: 0px 1px 2px rgba(60, 64, 67, 0.3), 0px 1px 3px 1px rgba(60, 64, 67, 0.15);\n",
              "      fill: #174EA6;\n",
              "    }\n",
              "\n",
              "    [theme=dark] .colab-df-convert {\n",
              "      background-color: #3B4455;\n",
              "      fill: #D2E3FC;\n",
              "    }\n",
              "\n",
              "    [theme=dark] .colab-df-convert:hover {\n",
              "      background-color: #434B5C;\n",
              "      box-shadow: 0px 1px 3px 1px rgba(0, 0, 0, 0.15);\n",
              "      filter: drop-shadow(0px 1px 2px rgba(0, 0, 0, 0.3));\n",
              "      fill: #FFFFFF;\n",
              "    }\n",
              "  </style>\n",
              "\n",
              "      <script>\n",
              "        const buttonEl =\n",
              "          document.querySelector('#df-01da55f4-6fe2-4e9c-865b-fd6cc4f49919 button.colab-df-convert');\n",
              "        buttonEl.style.display =\n",
              "          google.colab.kernel.accessAllowed ? 'block' : 'none';\n",
              "\n",
              "        async function convertToInteractive(key) {\n",
              "          const element = document.querySelector('#df-01da55f4-6fe2-4e9c-865b-fd6cc4f49919');\n",
              "          const dataTable =\n",
              "            await google.colab.kernel.invokeFunction('convertToInteractive',\n",
              "                                                     [key], {});\n",
              "          if (!dataTable) return;\n",
              "\n",
              "          const docLinkHtml = 'Like what you see? Visit the ' +\n",
              "            '<a target=\"_blank\" href=https://colab.research.google.com/notebooks/data_table.ipynb>data table notebook</a>'\n",
              "            + ' to learn more about interactive tables.';\n",
              "          element.innerHTML = '';\n",
              "          dataTable['output_type'] = 'display_data';\n",
              "          await google.colab.output.renderOutput(dataTable, element);\n",
              "          const docLink = document.createElement('div');\n",
              "          docLink.innerHTML = docLinkHtml;\n",
              "          element.appendChild(docLink);\n",
              "        }\n",
              "      </script>\n",
              "    </div>\n",
              "  </div>\n",
              "  "
            ]
          },
          "metadata": {},
          "execution_count": 48
        }
      ],
      "source": [
        "# copy the original data and drop the first column for EDA\n",
        "eda_df = df.copy()\n",
        "\n",
        "eda_df.head()"
      ]
    },
    {
      "cell_type": "markdown",
      "source": [
        "###**1.3 `coef_pop` as target variable**"
      ],
      "metadata": {
        "id": "oyhg15s2G-BJ"
      }
    },
    {
      "cell_type": "code",
      "source": [
        "col_pal = sns.color_palette('ch:1, r=1.45, l=.55, d=.395')\n",
        "sns.color_palette('ch:1, r=1.45, l=.55, d=.395')"
      ],
      "metadata": {
        "colab": {
          "base_uri": "https://localhost:8080/",
          "height": 76
        },
        "id": "0fvtVUlJHqRY",
        "outputId": "16aa624d-ea85-4cbc-9795-f75968cbbabb"
      },
      "execution_count": 49,
      "outputs": [
        {
          "output_type": "execute_result",
          "data": {
            "text/plain": [
              "[(0.6671663710599731, 0.4639092574784279, 0.6833040561641264),\n",
              " (0.5944173789675091, 0.44686386017287955, 0.6879305278194555),\n",
              " (0.5144550874917323, 0.43625614508356136, 0.6777000916906704),\n",
              " (0.43233632850755416, 0.42992767975608875, 0.650398471074648),\n",
              " (0.3628802845356828, 0.4258241550971552, 0.6122790235874231),\n",
              " (0.2906687062148282, 0.42024281322903345, 0.553950436871317)]"
            ],
            "text/html": [
              "<svg  width=\"330\" height=\"55\"><rect x=\"0\" y=\"0\" width=\"55\" height=\"55\" style=\"fill:#aa76ae;stroke-width:2;stroke:rgb(255,255,255)\"/><rect x=\"55\" y=\"0\" width=\"55\" height=\"55\" style=\"fill:#9872af;stroke-width:2;stroke:rgb(255,255,255)\"/><rect x=\"110\" y=\"0\" width=\"55\" height=\"55\" style=\"fill:#836fad;stroke-width:2;stroke:rgb(255,255,255)\"/><rect x=\"165\" y=\"0\" width=\"55\" height=\"55\" style=\"fill:#6e6ea6;stroke-width:2;stroke:rgb(255,255,255)\"/><rect x=\"220\" y=\"0\" width=\"55\" height=\"55\" style=\"fill:#5d6d9c;stroke-width:2;stroke:rgb(255,255,255)\"/><rect x=\"275\" y=\"0\" width=\"55\" height=\"55\" style=\"fill:#4a6b8d;stroke-width:2;stroke:rgb(255,255,255)\"/></svg>"
            ]
          },
          "metadata": {},
          "execution_count": 49
        }
      ]
    },
    {
      "cell_type": "code",
      "source": [
        "## further confirm the outlier with a histogram\n",
        "def box_plot(df, column_name,\n",
        "             fs=(8,4), file_name='',\n",
        "             tit_lab='', x_lab='', y_lab='', \n",
        "             fmt='',\n",
        "             hza='center', rot=0):    \n",
        "    # Variables\n",
        "    feature = df[column_name]\n",
        "    mean = feature.mean()\n",
        "    median = feature.median()\n",
        "    # Plot\n",
        "    fig, ax = plt.subplots(nrows=1, figsize=fs, facecolor='w')\n",
        "    sns.boxplot(data=df, x=column_name, width=.35, color=col_pal[4], ax=ax,\n",
        "                medianprops={'color':'k', 'linewidth':1.5},\n",
        "                whiskerprops={'color':'k', 'linewidth':1.5},\n",
        "                boxprops={'facecolor':col_pal[4], \n",
        "                          'edgecolor':'k', 'linewidth':1.5},\n",
        "                capprops={'color':'k', 'linewidth':1.5},\n",
        "                flierprops={'marker':'o', 'markersize':8, \n",
        "                            'markerfacecolor':col_pal[4], \n",
        "                            'markeredgecolor':'k'}); \n",
        "    # Title and labels\n",
        "    plt.title(tit_lab, fontsize = 16, weight='bold')\n",
        "    plt.xlabel(x_lab, fontsize = 12, weight='bold')\n",
        "    plt.ylabel('', fontsize = 12, weight='bold')\n",
        "    # String format\n",
        "    if fmt != '':\n",
        "        ax.xaxis.set_major_formatter(fmt)\n",
        "    # Ticks\n",
        "    plt.xticks(fontsize=10, weight='bold')\n",
        "    plt.yticks(fontsize=10, weight='bold')\n",
        "    # Face \n",
        "    ax.set_facecolor('w')\n",
        "    # Spines\n",
        "    for axis in ['top','bottom','left','right']:\n",
        "        ax.spines[axis].set_linewidth(2)\n",
        "    # Vertical lines\n",
        "    ax.axvline(mean, color = 'magenta', linewidth=2, \n",
        "               label=f'Mean = {mean:,.2f}')\n",
        "    ax.axvline(median, ls='dotted', color = 'darkmagenta',  linewidth=2, \n",
        "               label=f'Median = {median:,.2f}')\n",
        "    # Grid\n",
        "    plt.grid(axis = 'x', lw=.5, c='k', alpha=.25)\n",
        "    # Display\n",
        "    ax.legend();\n",
        "    plt.tight_layout()\n",
        "    plt.show;"
      ],
      "metadata": {
        "id": "cdq3RDQfHeFc"
      },
      "execution_count": 50,
      "outputs": []
    },
    {
      "cell_type": "code",
      "source": [
        "box_plot(eda_df, 'coef_pop',\n",
        "             tit_lab='Poisson Regression', \n",
        "             fs=(8,4),\n",
        "         x_lab = 'Coefficient')"
      ],
      "metadata": {
        "colab": {
          "base_uri": "https://localhost:8080/",
          "height": 297
        },
        "id": "wo2qh85rHt2P",
        "outputId": "77c1fd33-2577-41ec-f6da-387542b48d31"
      },
      "execution_count": 51,
      "outputs": [
        {
          "output_type": "display_data",
          "data": {
            "text/plain": [
              "<Figure size 576x288 with 1 Axes>"
            ],
            "image/png": "[encoded data removed]"
          },
          "metadata": {}
        }
      ]
    },
    {
      "cell_type": "markdown",
      "source": [
        "####**Findings**\n",
        "\n",
        "- There are some \"outliers\" in the distribution\n",
        "- A very high or very low Poisson regression coefficient indicates a strong increasing/decreasing trend\n",
        "- No need for extra treatment"
      ],
      "metadata": {
        "id": "CFZVaJEqHVXL"
      }
    },
    {
      "cell_type": "code",
      "source": [
        "# check max value\n",
        "eda_df['coef_pop'].describe()"
      ],
      "metadata": {
        "colab": {
          "base_uri": "https://localhost:8080/"
        },
        "id": "zmOqklYLJsjJ",
        "outputId": "be156ede-f155-49d5-8cc0-3146241ed77c"
      },
      "execution_count": 52,
      "outputs": [
        {
          "output_type": "execute_result",
          "data": {
            "text/plain": [
              "count    3364.000000\n",
              "mean        0.007374\n",
              "std         0.030357\n",
              "min        -0.697911\n",
              "25%        -0.002945\n",
              "50%         0.006449\n",
              "75%         0.016218\n",
              "max         0.948343\n",
              "Name: coef_pop, dtype: float64"
            ]
          },
          "metadata": {},
          "execution_count": 52
        }
      ]
    },
    {
      "cell_type": "markdown",
      "source": [
        "###**1.4 `pop_diff` as target variable**"
      ],
      "metadata": {
        "id": "YDKkeIFY7wrt"
      }
    },
    {
      "cell_type": "code",
      "source": [
        "box_plot(eda_df, 'pop_diff',\n",
        "             tit_lab='Poisson Regression', \n",
        "             fs=(8,4),\n",
        "         x_lab = 'Population')"
      ],
      "metadata": {
        "colab": {
          "base_uri": "https://localhost:8080/",
          "height": 297
        },
        "id": "TH_wqp5S78D4",
        "outputId": "cab96b95-0ce4-4922-92ae-818304e40c2f"
      },
      "execution_count": 53,
      "outputs": [
        {
          "output_type": "display_data",
          "data": {
            "text/plain": [
              "<Figure size 576x288 with 1 Axes>"
            ],
            "image/png": "[encoded data removed]"
          },
          "metadata": {}
        }
      ]
    },
    {
      "cell_type": "markdown",
      "source": [
        "####**Findings**\n",
        "\n",
        "- There are some outliers in the `pop_diff` column\n",
        "- These are census tracts with very large (positive or negative) change of population\n",
        "- No extra treatment needed"
      ],
      "metadata": {
        "id": "nVSp1vQ_8DY3"
      }
    },
    {
      "cell_type": "markdown",
      "metadata": {
        "id": "CNHAMEx2oiVh"
      },
      "source": [
        "###**1.5 Check and fix data inconsistency**\n",
        "\n",
        "- Check if there is any inconsistenty in categorical variables"
      ]
    },
    {
      "cell_type": "code",
      "execution_count": 54,
      "metadata": {
        "colab": {
          "base_uri": "https://localhost:8080/"
        },
        "id": "Iy_Mxz_5pldp",
        "outputId": "da88930e-5fd8-4da0-c3d4-d64285527fae"
      },
      "outputs": [
        {
          "output_type": "execute_result",
          "data": {
            "text/plain": [
              "Index(['county', 'WUICLASS10_tract'], dtype='object')"
            ]
          },
          "metadata": {},
          "execution_count": 54
        }
      ],
      "source": [
        "# get index for selected cols\n",
        "data_types = eda_df.dtypes\n",
        "cols = data_types[data_types=='object'].index\n",
        "cols"
      ]
    },
    {
      "cell_type": "code",
      "execution_count": 55,
      "metadata": {
        "colab": {
          "base_uri": "https://localhost:8080/"
        },
        "id": "HZejmnPQpqNt",
        "outputId": "3fe0583b-8318-4b43-a4ca-49057db87e77"
      },
      "outputs": [
        {
          "output_type": "stream",
          "name": "stdout",
          "text": [
            "The unique values of the feature county are:\n",
            "\n",
            "Los Angeles County        507\n",
            "Riverside County          326\n",
            "San Diego County          266\n",
            "San Bernardino County     203\n",
            "Contra Costa County       179\n",
            "Alameda County            156\n",
            "Orange County             151\n",
            "Santa Clara County        138\n",
            "Ventura County            115\n",
            "Sonoma County              91\n",
            "San Mateo County           89\n",
            "Solano County              84\n",
            "Sacramento County          74\n",
            "Kern County                66\n",
            "Santa Barbara County       63\n",
            "Monterey County            62\n",
            "Placer County              58\n",
            "Marin County               53\n",
            "San Luis Obispo County     52\n",
            "Shasta County              48\n",
            "Santa Cruz County          44\n",
            "Butte County               43\n",
            "El Dorado County           42\n",
            "Napa County                39\n",
            "Fresno County              36\n",
            "Tulare County              34\n",
            "Humboldt County            30\n",
            "Merced County              26\n",
            "San Francisco County       23\n",
            "Imperial County            21\n",
            "Mendocino County           20\n",
            "Nevada County              20\n",
            "Madera County              18\n",
            "San Joaquin County         15\n",
            "Lake County                15\n",
            "Siskiyou County            14\n",
            "San Benito County          11\n",
            "Tehama County              11\n",
            "Stanislaus County          10\n",
            "Calaveras County           10\n",
            "Tuolumne County            10\n",
            "Amador County               9\n",
            "Lassen County               9\n",
            "Del Norte County            7\n",
            "Kings County                7\n",
            "Plumas County               7\n",
            "Inyo County                 6\n",
            "Mariposa County             6\n",
            "Glenn County                6\n",
            "Yuba County                 6\n",
            "Colusa County               5\n",
            "Yolo County                 5\n",
            "Trinity County              5\n",
            "Modoc County                4\n",
            "Sutter County               4\n",
            "Mono County                 3\n",
            "Sierra County               1\n",
            "Alpine County               1\n",
            "Name: county, dtype: int64\n",
            "\n",
            "\n",
            "The unique values of the feature WUICLASS10_tract are:\n",
            "\n",
            "High_Dens_Interface    1930\n",
            "Med_Dens_Interface      795\n",
            "Low_Dens_Intermix       267\n",
            "Med_Dens_Intermix       252\n",
            "Low_Dens_Interface       99\n",
            "High_Dens_Intermix       21\n",
            "Name: WUICLASS10_tract, dtype: int64\n",
            "\n",
            "\n"
          ]
        }
      ],
      "source": [
        "# loop over cols to print unique values\n",
        "for col in cols:\n",
        " print(f\"The unique values of the feature {col} are:\\n\")\n",
        " print(eda_df[col].value_counts())\n",
        " print(\"\\n\")"
      ]
    },
    {
      "cell_type": "markdown",
      "metadata": {
        "id": "C1kxWXBxpPBd"
      },
      "source": [
        "#### **Findings**\n",
        "\n",
        "- There is no inconsistency in the categorical variables\n"
      ]
    },
    {
      "cell_type": "markdown",
      "metadata": {
        "id": "f7twL-oByunv"
      },
      "source": [
        "###**1.6 Check and fix missing values**\n",
        "\n",
        "- Check if missing values are present"
      ]
    },
    {
      "cell_type": "code",
      "execution_count": 56,
      "metadata": {
        "colab": {
          "base_uri": "https://localhost:8080/"
        },
        "id": "B0JL-qhc3aoZ",
        "outputId": "6026c6e8-0299-4c11-ec56-c6da6cc83724"
      },
      "outputs": [
        {
          "output_type": "execute_result",
          "data": {
            "text/plain": [
              "id                  0\n",
              "county              0\n",
              "county_pop_19       0\n",
              "mk_pop              0\n",
              "pval_mk             0\n",
              "slp_pop             0\n",
              "pval_ols            1\n",
              "coef_pop            0\n",
              "pval_poisson        0\n",
              "WUICLASS10_tract    0\n",
              "WUIFLAG10_tract     0\n",
              "COUNTYFP10          0\n",
              "pop10               0\n",
              "tract_area          0\n",
              "WHPWeigh_1          0\n",
              "CNTY_AREA           0\n",
              "pop19               0\n",
              "pop_diff            0\n",
              "dtype: int64"
            ]
          },
          "metadata": {},
          "execution_count": 56
        }
      ],
      "source": [
        "# check if missing values are present in the data\n",
        "eda_df.isna().sum()"
      ]
    },
    {
      "cell_type": "code",
      "execution_count": 57,
      "metadata": {
        "colab": {
          "base_uri": "https://localhost:8080/"
        },
        "id": "lJ8UjMlBz2Ow",
        "outputId": "032f4499-7763-4482-f376-e3d0d505d7ad"
      },
      "outputs": [
        {
          "output_type": "stream",
          "name": "stdout",
          "text": [
            "id                  0.000000\n",
            "county              0.000000\n",
            "county_pop_19       0.000000\n",
            "mk_pop              0.000000\n",
            "pval_mk             0.000000\n",
            "slp_pop             0.000000\n",
            "pval_ols            0.029727\n",
            "coef_pop            0.000000\n",
            "pval_poisson        0.000000\n",
            "WUICLASS10_tract    0.000000\n",
            "WUIFLAG10_tract     0.000000\n",
            "COUNTYFP10          0.000000\n",
            "pop10               0.000000\n",
            "tract_area          0.000000\n",
            "WHPWeigh_1          0.000000\n",
            "CNTY_AREA           0.000000\n",
            "pop19               0.000000\n",
            "pop_diff            0.000000\n",
            "dtype: float64\n"
          ]
        }
      ],
      "source": [
        "# display the percentage of missing values by column\n",
        "print(eda_df.isna().sum()/len(eda_df)*100)"
      ]
    },
    {
      "cell_type": "markdown",
      "metadata": {
        "id": "kBmDs0icz8kb"
      },
      "source": [
        "- We can simply drop the row with a missing value in `pval_ols`"
      ]
    },
    {
      "cell_type": "markdown",
      "source": [
        "####**Fix the `pval_ols` column**\n",
        "\n",
        "- Drop this row"
      ],
      "metadata": {
        "id": "d9AFefBW0PHE"
      }
    },
    {
      "cell_type": "code",
      "source": [
        "# calculate the row index for rows with missing values\n",
        "na_rows = eda_df[eda_df['pval_ols'].isna()].index\n",
        "na_rows"
      ],
      "metadata": {
        "id": "oG33J0lQ1jTv",
        "colab": {
          "base_uri": "https://localhost:8080/"
        },
        "outputId": "7310c652-b18c-4cdf-fd5b-ef53281e6e48"
      },
      "execution_count": 58,
      "outputs": [
        {
          "output_type": "execute_result",
          "data": {
            "text/plain": [
              "Int64Index([3173], dtype='int64')"
            ]
          },
          "metadata": {},
          "execution_count": 58
        }
      ]
    },
    {
      "cell_type": "code",
      "source": [
        "# drop the row\n",
        "eda_df.drop(labels=3173, axis=0);"
      ],
      "metadata": {
        "id": "cl32Vz2P9Jg-"
      },
      "execution_count": 59,
      "outputs": []
    },
    {
      "cell_type": "code",
      "source": [
        "# display the percentage of missing values by column\n",
        "print(eda_df.isna().sum()/len(eda_df)*100)"
      ],
      "metadata": {
        "colab": {
          "base_uri": "https://localhost:8080/"
        },
        "id": "xRdnNfSM9SAe",
        "outputId": "74d86a7c-344c-43e5-8bf5-6d75beab21e2"
      },
      "execution_count": 60,
      "outputs": [
        {
          "output_type": "stream",
          "name": "stdout",
          "text": [
            "id                  0.000000\n",
            "county              0.000000\n",
            "county_pop_19       0.000000\n",
            "mk_pop              0.000000\n",
            "pval_mk             0.000000\n",
            "slp_pop             0.000000\n",
            "pval_ols            0.029727\n",
            "coef_pop            0.000000\n",
            "pval_poisson        0.000000\n",
            "WUICLASS10_tract    0.000000\n",
            "WUIFLAG10_tract     0.000000\n",
            "COUNTYFP10          0.000000\n",
            "pop10               0.000000\n",
            "tract_area          0.000000\n",
            "WHPWeigh_1          0.000000\n",
            "CNTY_AREA           0.000000\n",
            "pop19               0.000000\n",
            "pop_diff            0.000000\n",
            "dtype: float64\n"
          ]
        }
      ]
    },
    {
      "cell_type": "code",
      "source": [
        "# check if missing value still exists\n",
        "eda_df['pval_ols'].isna().sum()"
      ],
      "metadata": {
        "colab": {
          "base_uri": "https://localhost:8080/"
        },
        "id": "xs4m6lID2m3l",
        "outputId": "bdd94f5e-6d6c-4b3c-ff0d-ae0516bbb635"
      },
      "execution_count": 61,
      "outputs": [
        {
          "output_type": "execute_result",
          "data": {
            "text/plain": [
              "1"
            ]
          },
          "metadata": {},
          "execution_count": 61
        }
      ]
    },
    {
      "cell_type": "markdown",
      "metadata": {
        "id": "3iqCM0WSyxrC"
      },
      "source": [
        "###**1.7 Check and fix duplicated values**\n",
        "\n",
        "- Check if duplicated values are present"
      ]
    },
    {
      "cell_type": "code",
      "execution_count": 62,
      "metadata": {
        "colab": {
          "base_uri": "https://localhost:8080/"
        },
        "id": "0EMzVEqJ3cuX",
        "outputId": "5c75fcc3-15e1-4d43-cdbe-48ab87d7a6e0"
      },
      "outputs": [
        {
          "output_type": "stream",
          "name": "stdout",
          "text": [
            "There are 0 duplicated rows in the dataframe\n"
          ]
        }
      ],
      "source": [
        "# identify duplicate rows\n",
        "duplicateRows = eda_df[eda_df.duplicated()]\n",
        "print(f'There are {len(duplicateRows)} duplicated rows in the dataframe')"
      ]
    },
    {
      "cell_type": "markdown",
      "source": [
        "##**2. EDA visualization**"
      ],
      "metadata": {
        "id": "25E43emK5voG"
      }
    },
    {
      "cell_type": "markdown",
      "source": [
        "###**2.1 Wildfire Hazard Potential (WHP)**"
      ],
      "metadata": {
        "id": "rz-qtZTx72VE"
      }
    },
    {
      "cell_type": "code",
      "source": [
        "# Create a function to create a KDE Plot\n",
        "def kde_plot(df, column_name,\n",
        "             fs=(8,4), file_name='',\n",
        "             tit_lab='', x_lab='', y_lab='',\n",
        "             fmt='',\n",
        "             hza='center', rot=0):    \n",
        "    # Variables\n",
        "    feature = df[column_name]\n",
        "    mean = feature.mean()\n",
        "    median = feature.median()\n",
        "    \n",
        "    # PLot\n",
        "    fig, ax = plt.subplots(nrows=1, figsize=fs, facecolor='w')\n",
        "    sns.kdeplot(data=df, x=column_name, \n",
        "                color=col_pal[4], linewidth=1.25, fill=True)\n",
        "    \n",
        "    # Title and labels\n",
        "    plt.title(tit_lab, fontsize = 16, weight='bold')\n",
        "    plt.xlabel(x_lab, fontsize = 12, weight='bold')\n",
        "    plt.ylabel('Density', fontsize = 12, weight='bold')\n",
        "    # String format\n",
        "    if fmt != '':\n",
        "        ax.xaxis.set_major_formatter(fmt)\n",
        "    # Ticks\n",
        "    plt.xticks(fontsize=10, weight='bold')\n",
        "    plt.yticks(fontsize=10, weight='bold')\n",
        "    # Face \n",
        "    ax.set_facecolor('w')\n",
        "    # Spines\n",
        "    for axis in ['top','bottom','left','right']:\n",
        "        ax.spines[axis].set_linewidth(2)\n",
        "    # Vertical lines\n",
        "    ax.axvline(mean, color = 'magenta', linewidth=2, \n",
        "               label=f'Mean = {mean:,.2f}')\n",
        "    ax.axvline(median, ls='dotted', color = 'darkmagenta',  linewidth=2, \n",
        "               label=f'Median = {median:,.2f}')\n",
        "    # Grid\n",
        "    plt.grid(lw=.5, c='k', alpha=.25)\n",
        "    # Display\n",
        "    ax.legend();\n",
        "    plt.tight_layout()\n",
        "    plt.show;\n",
        "    # Save an image of the plot\n",
        "    if file_name != '':\n",
        "        folder_file_name = image_folder_path + file_name\n",
        "        plt.savefig(folder_file_name, format='png', \n",
        "                    facecolor='w', edgecolor='w')"
      ],
      "metadata": {
        "id": "tNnSoJa9FIXm"
      },
      "execution_count": 63,
      "outputs": []
    },
    {
      "cell_type": "code",
      "source": [
        "# Utilize function to display a KDE plot\n",
        "kde_plot(eda_df, 'WHPWeigh_1',\n",
        "         tit_lab='Wildfire Hazard Potential', \n",
        "         fs=(8,4),\n",
        "         x_lab='Wildfire Hazard Potential')"
      ],
      "metadata": {
        "colab": {
          "base_uri": "https://localhost:8080/",
          "height": 297
        },
        "id": "7xuH-We-FW8Z",
        "outputId": "ff5cf4bc-57c4-432a-a670-6ed2eec8e52c"
      },
      "execution_count": 64,
      "outputs": [
        {
          "output_type": "display_data",
          "data": {
            "text/plain": [
              "<Figure size 576x288 with 1 Axes>"
            ],
            "image/png": "[encoded data removed]"
          },
          "metadata": {}
        }
      ]
    }
  ],
  "metadata": {
    "colab": {
      "provenance": [],
      "toc_visible": true,
      "include_colab_link": true
    },
    "kernelspec": {
      "display_name": "Python 3",
      "name": "python3"
    },
    "language_info": {
      "name": "python"
    }
  },
  "nbformat": 4,
  "nbformat_minor": 0
}